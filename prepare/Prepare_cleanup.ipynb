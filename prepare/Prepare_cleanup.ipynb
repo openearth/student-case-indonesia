{
 "cells": [
  {
   "cell_type": "markdown",
   "id": "fcea2bd0",
   "metadata": {},
   "source": [
    "# Prepare\n",
    "\n"
   ]
  },
  {
   "cell_type": "markdown",
   "id": "12c9e042",
   "metadata": {},
   "source": [
    "This script process geotiff files in the following steps.\n",
    "1. Reproject and resample these files to a consistent coordinate system and cell size\n",
    "2. Create xarray data arrays from the resampled data for organized data handling\n",
    "3. Check inconstistencies for any differences in data array shapes, providing awareness of potential inconstistencies.\n"
   ]
  },
  {
   "cell_type": "code",
   "execution_count": 5,
   "id": "54a082c3",
   "metadata": {},
   "outputs": [],
   "source": [
    "import os\n",
    "import rasterio\n",
    "import xarray as xr\n",
    "from rasterio.warp import calculate_default_transform, reproject, Resampling\n",
    "import numpy as np"
   ]
  },
  {
   "cell_type": "markdown",
   "id": "8c919e97",
   "metadata": {},
   "source": [
    "### Define parameters"
   ]
  },
  {
   "cell_type": "code",
   "execution_count": 6,
   "id": "12be8172",
   "metadata": {},
   "outputs": [],
   "source": [
    "# Define the target coordinate system (WGS84)\n",
    "dst_crs = \"EPSG:32647\"\n",
    "bbox = [110.1, -7.2, 110.6, -6.7]\n",
    "cell_size = 30\n",
    "\n",
    "#Specify the folder containing the geotiff files\n",
    "folder_path = r\"C:\\Users\\micha\\Stichting Deltares\\Tiaravanni Hermawan - Indonesia case for students\\semarang\\hydromt_data_1\\to_clean\""
   ]
  },
  {
   "cell_type": "markdown",
   "id": "358a00ac",
   "metadata": {},
   "source": [
    "### Read all the tif from the directory"
   ]
  },
  {
   "cell_type": "code",
   "execution_count": 7,
   "id": "20101432",
   "metadata": {},
   "outputs": [],
   "source": [
    "file_list = []\n",
    "# Walk through the directory and its subdirectories\n",
    "for root, dirs, files in os.walk(folder_path):\n",
    "    for file in files:\n",
    "        if file.endswith('.tif') or file.endswith('.tiff'):\n",
    "            file_list.append(os.path.join(root, file))"
   ]
  },
  {
   "cell_type": "markdown",
   "id": "3a25b0c4",
   "metadata": {},
   "source": [
    "### For each tif in the list do the following steps: \n",
    "    1. Set nan values \n",
    "    2. Resample to given cell size\n",
    "    3. Populate xarray data array from the reprojected data and store it in the dictionary"
   ]
  },
  {
   "cell_type": "code",
   "execution_count": 11,
   "id": "74a1a988",
   "metadata": {},
   "outputs": [],
   "source": [
    "def set_nan_values_raster(file):\n",
    "    with rasterio.open(file_path) as src:\n",
    "        src_data = src.read(1)\n",
    "        src_data = np.where(\n",
    "            src_data == -9999, np.nan, src_data\n",
    "        )  # Replace -9999 with np.nan\n",
    "        # no flood depth as 0\n",
    "        if (\n",
    "            file_name == \"flooddepth_sfincs.tif\"\n",
    "            or file_name == \"flood_depth_compound.tiff\"\n",
    "        ):\n",
    "            src_data = np.where(np.isnan(src_data), 0, src_data)\n",
    "        # no population as 0\n",
    "        if file_name == \"population.tif\":\n",
    "            src_data = np.where(src_data < 0, 0, src_data)\n",
    "        return src.profile, src_data"
   ]
  },
  {
   "cell_type": "code",
   "execution_count": 12,
   "id": "12d663ca",
   "metadata": {},
   "outputs": [],
   "source": [
    "def resample_to_cell_size(src_profile, dst_crs, bbox):\n",
    "    #1. Calculate the default transform and dimensions of the output raster using bounding values\n",
    "    dst_transform, dst_width, dst_height = calculate_default_transform(\n",
    "        src_profile[\"crs\"],\n",
    "        dst_crs,\n",
    "        src_profile[\"width\"],\n",
    "        src_profile[\"height\"],\n",
    "        left=bbox[0],\n",
    "        bottom=bbox[1],\n",
    "        right=bbox[2],\n",
    "        top=bbox[3],\n",
    "    )\n",
    "    #2. Resample the data to a cell size\n",
    "    target_transform = rasterio.transform.from_origin(\n",
    "        dst_transform[2], dst_transform[5], cell_size, cell_size\n",
    "    )\n",
    "    target_width = int(dst_width * dst_transform[0] / cell_size)\n",
    "    target_height = int(dst_height * abs(dst_transform[4]) / cell_size)\n",
    "\n",
    "    dst_data = np.zeros((target_height, target_width), dtype=np.float32)\n",
    "    reproject(\n",
    "        source=src_data,\n",
    "        destination=dst_data,\n",
    "        src_transform=src_profile[\"transform\"],\n",
    "        src_crs=src_profile[\"crs\"],\n",
    "        dst_transform=target_transform,\n",
    "        dst_crs=dst_crs,\n",
    "        resampling=Resampling.bilinear,\n",
    "    )\n",
    "    \n",
    "    #3. Update the metadata of the output raster\n",
    "    dst_profile = src_profile.copy()\n",
    "    dst_profile.update(\n",
    "        {\n",
    "            \"crs\": dst_crs,\n",
    "            \"transform\": target_transform,  \n",
    "            \"width\": target_width,  \n",
    "            \"height\": target_height, \n",
    "        }\n",
    "    )\n",
    "    return dst_profile, dst_data"
   ]
  },
  {
   "cell_type": "code",
   "execution_count": 16,
   "id": "a7c5ba9f",
   "metadata": {},
   "outputs": [
    {
     "name": "stdout",
     "output_type": "stream",
     "text": [
      "{'driver': 'GTiff', 'dtype': 'float64', 'nodata': -9999.0, 'width': 1920, 'height': 1923, 'count': 1, 'crs': CRS.from_epsg(32647), 'transform': Affine(30.0, 0.0, 1733019.537220622,\n",
      "       0.0, -30.0, -754668.524528691), 'tiled': False, 'interleave': 'band'} [[0. 0. 0. ... 0. 0. 0.]\n",
      " [0. 0. 0. ... 0. 0. 0.]\n",
      " [0. 0. 0. ... 0. 0. 0.]\n",
      " ...\n",
      " [0. 0. 0. ... 0. 0. 0.]\n",
      " [0. 0. 0. ... 0. 0. 0.]\n",
      " [0. 0. 0. ... 0. 0. 0.]]\n"
     ]
    },
    {
     "ename": "ValueError",
     "evalue": "height must be > 0",
     "output_type": "error",
     "traceback": [
      "\u001b[1;31m---------------------------------------------------------------------------\u001b[0m",
      "\u001b[1;31mValueError\u001b[0m                                Traceback (most recent call last)",
      "Cell \u001b[1;32mIn[16], line 11\u001b[0m\n\u001b[0;32m      9\u001b[0m src_profile, src_data \u001b[38;5;241m=\u001b[39m set_nan_values_raster(file_path)\n\u001b[0;32m     10\u001b[0m \u001b[38;5;28mprint\u001b[39m(src_profile, src_data)\n\u001b[1;32m---> 11\u001b[0m dst_profile, dst_data \u001b[38;5;241m=\u001b[39m \u001b[43mresample_to_cell_size\u001b[49m\u001b[43m(\u001b[49m\u001b[43msrc_profile\u001b[49m\u001b[43m,\u001b[49m\u001b[43m \u001b[49m\u001b[43mdst_crs\u001b[49m\u001b[43m,\u001b[49m\u001b[43m \u001b[49m\u001b[43mbbox\u001b[49m\u001b[43m)\u001b[49m\n",
      "Cell \u001b[1;32mIn[12], line 21\u001b[0m, in \u001b[0;36mresample_to_cell_size\u001b[1;34m(src_profile, dst_crs, bbox)\u001b[0m\n\u001b[0;32m     18\u001b[0m target_height \u001b[38;5;241m=\u001b[39m \u001b[38;5;28mint\u001b[39m(dst_height \u001b[38;5;241m*\u001b[39m \u001b[38;5;28mabs\u001b[39m(dst_transform[\u001b[38;5;241m4\u001b[39m]) \u001b[38;5;241m/\u001b[39m cell_size)\n\u001b[0;32m     20\u001b[0m dst_data \u001b[38;5;241m=\u001b[39m np\u001b[38;5;241m.\u001b[39mzeros((target_height, target_width), dtype\u001b[38;5;241m=\u001b[39mnp\u001b[38;5;241m.\u001b[39mfloat32)\n\u001b[1;32m---> 21\u001b[0m \u001b[43mreproject\u001b[49m\u001b[43m(\u001b[49m\n\u001b[0;32m     22\u001b[0m \u001b[43m    \u001b[49m\u001b[43msource\u001b[49m\u001b[38;5;241;43m=\u001b[39;49m\u001b[43msrc_data\u001b[49m\u001b[43m,\u001b[49m\n\u001b[0;32m     23\u001b[0m \u001b[43m    \u001b[49m\u001b[43mdestination\u001b[49m\u001b[38;5;241;43m=\u001b[39;49m\u001b[43mdst_data\u001b[49m\u001b[43m,\u001b[49m\n\u001b[0;32m     24\u001b[0m \u001b[43m    \u001b[49m\u001b[43msrc_transform\u001b[49m\u001b[38;5;241;43m=\u001b[39;49m\u001b[43msrc_profile\u001b[49m\u001b[43m[\u001b[49m\u001b[38;5;124;43m\"\u001b[39;49m\u001b[38;5;124;43mtransform\u001b[39;49m\u001b[38;5;124;43m\"\u001b[39;49m\u001b[43m]\u001b[49m\u001b[43m,\u001b[49m\n\u001b[0;32m     25\u001b[0m \u001b[43m    \u001b[49m\u001b[43msrc_crs\u001b[49m\u001b[38;5;241;43m=\u001b[39;49m\u001b[43msrc_profile\u001b[49m\u001b[43m[\u001b[49m\u001b[38;5;124;43m\"\u001b[39;49m\u001b[38;5;124;43mcrs\u001b[39;49m\u001b[38;5;124;43m\"\u001b[39;49m\u001b[43m]\u001b[49m\u001b[43m,\u001b[49m\n\u001b[0;32m     26\u001b[0m \u001b[43m    \u001b[49m\u001b[43mdst_transform\u001b[49m\u001b[38;5;241;43m=\u001b[39;49m\u001b[43mtarget_transform\u001b[49m\u001b[43m,\u001b[49m\n\u001b[0;32m     27\u001b[0m \u001b[43m    \u001b[49m\u001b[43mdst_crs\u001b[49m\u001b[38;5;241;43m=\u001b[39;49m\u001b[43mdst_crs\u001b[49m\u001b[43m,\u001b[49m\n\u001b[0;32m     28\u001b[0m \u001b[43m    \u001b[49m\u001b[43mresampling\u001b[49m\u001b[38;5;241;43m=\u001b[39;49m\u001b[43mResampling\u001b[49m\u001b[38;5;241;43m.\u001b[39;49m\u001b[43mbilinear\u001b[49m\u001b[43m,\u001b[49m\n\u001b[0;32m     29\u001b[0m \u001b[43m\u001b[49m\u001b[43m)\u001b[49m\n\u001b[0;32m     31\u001b[0m \u001b[38;5;66;03m#3. Update the metadata of the output raster\u001b[39;00m\n\u001b[0;32m     32\u001b[0m dst_profile \u001b[38;5;241m=\u001b[39m src_profile\u001b[38;5;241m.\u001b[39mcopy()\n",
      "File \u001b[1;32m~\\Anaconda3\\envs\\student_case\\lib\\site-packages\\rasterio\\env.py:387\u001b[0m, in \u001b[0;36mensure_env.<locals>.wrapper\u001b[1;34m(*args, **kwds)\u001b[0m\n\u001b[0;32m    385\u001b[0m \u001b[38;5;28;01melse\u001b[39;00m:\n\u001b[0;32m    386\u001b[0m     \u001b[38;5;28;01mwith\u001b[39;00m Env\u001b[38;5;241m.\u001b[39mfrom_defaults():\n\u001b[1;32m--> 387\u001b[0m         \u001b[38;5;28;01mreturn\u001b[39;00m f(\u001b[38;5;241m*\u001b[39margs, \u001b[38;5;241m*\u001b[39m\u001b[38;5;241m*\u001b[39mkwds)\n",
      "File \u001b[1;32m~\\Anaconda3\\envs\\student_case\\lib\\site-packages\\rasterio\\env.py:612\u001b[0m, in \u001b[0;36mrequire_gdal_version.<locals>.decorator.<locals>.wrapper\u001b[1;34m(*args, **kwds)\u001b[0m\n\u001b[0;32m    606\u001b[0m         \u001b[38;5;28;01melif\u001b[39;00m full_kwds[param] \u001b[38;5;129;01min\u001b[39;00m values:\n\u001b[0;32m    607\u001b[0m             \u001b[38;5;28;01mraise\u001b[39;00m GDALVersionError(\n\u001b[0;32m    608\u001b[0m                 \u001b[38;5;124m'\u001b[39m\u001b[38;5;124mparameter \u001b[39m\u001b[38;5;124m\"\u001b[39m\u001b[38;5;132;01m{0}\u001b[39;00m\u001b[38;5;124m=\u001b[39m\u001b[38;5;132;01m{1}\u001b[39;00m\u001b[38;5;124m\"\u001b[39m\u001b[38;5;124m requires \u001b[39m\u001b[38;5;124m'\u001b[39m\n\u001b[0;32m    609\u001b[0m                 \u001b[38;5;124m'\u001b[39m\u001b[38;5;124mGDAL \u001b[39m\u001b[38;5;132;01m{2}\u001b[39;00m\u001b[38;5;124m \u001b[39m\u001b[38;5;132;01m{3}\u001b[39;00m\u001b[38;5;132;01m{4}\u001b[39;00m\u001b[38;5;124m'\u001b[39m\u001b[38;5;241m.\u001b[39mformat(\n\u001b[0;32m    610\u001b[0m                     param, full_kwds[param], inequality, version, reason))\n\u001b[1;32m--> 612\u001b[0m \u001b[38;5;28;01mreturn\u001b[39;00m f(\u001b[38;5;241m*\u001b[39margs, \u001b[38;5;241m*\u001b[39m\u001b[38;5;241m*\u001b[39mkwds)\n",
      "File \u001b[1;32m~\\Anaconda3\\envs\\student_case\\lib\\site-packages\\rasterio\\warp.py:368\u001b[0m, in \u001b[0;36mreproject\u001b[1;34m(source, destination, src_transform, gcps, rpcs, src_crs, src_nodata, dst_transform, dst_crs, dst_nodata, dst_resolution, src_alpha, dst_alpha, resampling, num_threads, init_dest_nodata, warp_mem_limit, **kwargs)\u001b[0m\n\u001b[0;32m    364\u001b[0m         destination \u001b[38;5;241m=\u001b[39m np\u001b[38;5;241m.\u001b[39mempty((\u001b[38;5;28mint\u001b[39m(dst_count), \u001b[38;5;28mint\u001b[39m(dst_height), \u001b[38;5;28mint\u001b[39m(dst_width)),\n\u001b[0;32m    365\u001b[0m                                dtype\u001b[38;5;241m=\u001b[39msource\u001b[38;5;241m.\u001b[39mdtype)\n\u001b[0;32m    367\u001b[0m \u001b[38;5;66;03m# Call the function in our extension module.\u001b[39;00m\n\u001b[1;32m--> 368\u001b[0m _reproject(\n\u001b[0;32m    369\u001b[0m     source, destination, src_transform\u001b[38;5;241m=\u001b[39msrc_transform, gcps\u001b[38;5;241m=\u001b[39mgcps, rpcs\u001b[38;5;241m=\u001b[39mrpcs,\n\u001b[0;32m    370\u001b[0m     src_crs\u001b[38;5;241m=\u001b[39msrc_crs, src_nodata\u001b[38;5;241m=\u001b[39msrc_nodata, dst_transform\u001b[38;5;241m=\u001b[39mdst_transform,\n\u001b[0;32m    371\u001b[0m     dst_crs\u001b[38;5;241m=\u001b[39mdst_crs, dst_nodata\u001b[38;5;241m=\u001b[39mdst_nodata, dst_alpha\u001b[38;5;241m=\u001b[39mdst_alpha,\n\u001b[0;32m    372\u001b[0m     src_alpha\u001b[38;5;241m=\u001b[39msrc_alpha, resampling\u001b[38;5;241m=\u001b[39mresampling,\n\u001b[0;32m    373\u001b[0m     init_dest_nodata\u001b[38;5;241m=\u001b[39minit_dest_nodata, num_threads\u001b[38;5;241m=\u001b[39mnum_threads,\n\u001b[0;32m    374\u001b[0m     warp_mem_limit\u001b[38;5;241m=\u001b[39mwarp_mem_limit, \u001b[38;5;241m*\u001b[39m\u001b[38;5;241m*\u001b[39mkwargs)\n\u001b[0;32m    376\u001b[0m \u001b[38;5;28;01mreturn\u001b[39;00m destination, dst_transform\n",
      "File \u001b[1;32mrasterio\\_warp.pyx:474\u001b[0m, in \u001b[0;36mrasterio._warp._reproject\u001b[1;34m()\u001b[0m\n",
      "File \u001b[1;32mrasterio\\_warp.pyx:433\u001b[0m, in \u001b[0;36mrasterio._warp._reproject\u001b[1;34m()\u001b[0m\n",
      "File \u001b[1;32mrasterio\\_io.pyx:1746\u001b[0m, in \u001b[0;36mrasterio._io.InMemoryRaster.__init__\u001b[1;34m()\u001b[0m\n",
      "\u001b[1;31mValueError\u001b[0m: height must be > 0"
     ]
    }
   ],
   "source": [
    "data_array = {}\n",
    "for file_name in file_list:\n",
    "    #1. Construct the input file path\n",
    "    file_path = file_name\n",
    "\n",
    "    #2. Remove file extension from the name\n",
    "    data_name = os.path.splitext(file_name)[0].split(\"\\\\\")[-1]\n",
    "    \n",
    "    src_profile, src_data = set_nan_values_raster(file_path)\n",
    "    print(src_profile, src_data)\n",
    "    dst_profile, dst_data = resample_to_cell_size(src_profile, dst_crs, bbox)\n",
    "    data_array[data_name] = xr.DataArray(dst_data, dims=(\"y\", \"x\"), name=data_name)"
   ]
  },
  {
   "cell_type": "markdown",
   "id": "6fc56b0f",
   "metadata": {},
   "source": [
    "### Resize arrays to have the minimum size:\n",
    "    1. Find the minimum size among all arrays\n",
    "    2. Update the profile"
   ]
  },
  {
   "cell_type": "code",
   "execution_count": null,
   "id": "2b0c0e04",
   "metadata": {},
   "outputs": [],
   "source": [
    "min_rows = min([arr.shape[0] for arr in data_array.values()])\n",
    "min_cols = min([arr.shape[1] for arr in data_array.values()])"
   ]
  },
  {
   "cell_type": "code",
   "execution_count": 2,
   "id": "ce8810cc",
   "metadata": {},
   "outputs": [
    {
     "ename": "NameError",
     "evalue": "name 'src_profile' is not defined",
     "output_type": "error",
     "traceback": [
      "\u001b[1;31m---------------------------------------------------------------------------\u001b[0m",
      "\u001b[1;31mNameError\u001b[0m                                 Traceback (most recent call last)",
      "Cell \u001b[1;32mIn[2], line 1\u001b[0m\n\u001b[1;32m----> 1\u001b[0m dst_profile \u001b[38;5;241m=\u001b[39m \u001b[43msrc_profile\u001b[49m\u001b[38;5;241m.\u001b[39mcopy()\n\u001b[0;32m      2\u001b[0m dst_profile\u001b[38;5;241m.\u001b[39mupdate(\n\u001b[0;32m      3\u001b[0m     {\n\u001b[0;32m      4\u001b[0m         \u001b[38;5;124m\"\u001b[39m\u001b[38;5;124mcrs\u001b[39m\u001b[38;5;124m\"\u001b[39m: dst_crs,\n\u001b[1;32m   (...)\u001b[0m\n\u001b[0;32m      8\u001b[0m     }\n\u001b[0;32m      9\u001b[0m )\n",
      "\u001b[1;31mNameError\u001b[0m: name 'src_profile' is not defined"
     ]
    }
   ],
   "source": [
    "dst_profile = src_profile.copy()\n",
    "dst_profile.update(\n",
    "    {\n",
    "        \"crs\": dst_crs,\n",
    "        \"transform\": target_transform,  # dst_transform,\n",
    "        \"width\": min_cols,  # dst_width,\n",
    "        \"height\": min_rows,  # dst_height\n",
    "    }\n",
    ")"
   ]
  },
  {
   "cell_type": "code",
   "execution_count": null,
   "id": "b4af384a",
   "metadata": {},
   "outputs": [],
   "source": [
    "resized_arrays_tiff = {}\n",
    "\n",
    "for key, arr in data_array.items():\n",
    "    resized_arr = arr[:min_rows, :min_cols]\n",
    "    resized_arrays_tiff[key] = xr.DataArray(resized_arr, dims=(\"y\", \"x\"), name=key)\n",
    "\n",
    "    # write resized rasters\n",
    "    with rasterio.open(\n",
    "        folder_path + \"cleaned/\" + key + \"_cleaned.tiff\", \"w\", **dst_profile\n",
    "    ) as dst:\n",
    "        dst.write(resized_arrays_tiff[key], indexes=1)\n"
   ]
  },
  {
   "cell_type": "markdown",
   "id": "261dd08b",
   "metadata": {},
   "source": [
    "### Create netcdf per event\n",
    "    1. Set event numbers\n",
    "    2. Get coordinates from one of the tiff files\n",
    "    3. Define the variables to exclude\n",
    "    4. Loop through each event number and create a NetCDF file for it"
   ]
  },
  {
   "cell_type": "code",
   "execution_count": null,
   "id": "deed6077",
   "metadata": {},
   "outputs": [],
   "source": [
    "event_numbers = [i for i in range(1, 7)]"
   ]
  },
  {
   "cell_type": "code",
   "execution_count": null,
   "id": "ecaaaba7",
   "metadata": {},
   "outputs": [],
   "source": [
    "coords_tiff = xr.open_dataset(\n",
    "    folder_path + \"cleaned/floodmaps_1_cleaned.tiff\", engine=\"rasterio\"\n",
    ")"
   ]
  },
  {
   "cell_type": "code",
   "execution_count": null,
   "id": "d90c775f",
   "metadata": {},
   "outputs": [],
   "source": [
    "variable_to_exclude = \"floodmaps\" \n",
    "\n",
    "\n",
    "target_vars = [f\"{variable_to_exclude}{event_number}\" for event_number in event_numbers]\n",
    "dynamic_vars = target_vars + [\n",
    "    f\"{variable_to_exclude}_gis_{event_number}\" for event_number in event_numbers\n",
    "]\n",
    "static_vars = [\n",
    "    var_name for var_name in resized_arrays_tiff.keys() if var_name not in dynamic_vars\n",
    "]"
   ]
  },
  {
   "cell_type": "code",
   "execution_count": null,
   "id": "f208a260",
   "metadata": {},
   "outputs": [],
   "source": [
    "for event_number in event_numbers:\n",
    "    resized_arrays_nc = {}\n",
    "    #1. Select the relevant DataArrays for the current event\n",
    "    selected_vars = [\n",
    "        [f\"{variable_to_exclude}{event_number}\", f\"{variable_to_exclude}_gis_{event_number}\"] + static_vars\n",
    "    ][0]\n",
    "\n",
    "    #2. Create a new DataArray containing only the selected variables\n",
    "    dims = (\"events\", \"y\", \"x\")\n",
    "    coords = [[event_number], coords_tiff.y.values, coords_tiff.x.values]\n",
    "\n",
    "    for key, arr in data_array.items():\n",
    "        resized_arr = arr[:min_rows, :min_cols].expand_dims({\"events\": 1})\n",
    "        resized_arrays_nc[key] = xr.DataArray(\n",
    "            resized_arr, dims=dims, coords=coords, name=key\n",
    "        )\n",
    "\n",
    "    resized_arrays_ds = xr.Dataset(resized_arrays_nc)\n",
    "    resized_arrays_ds = resized_arrays_ds.rename(\n",
    "        {\n",
    "            f\"floodmaps_{event_number}\": \"floodmaps\",\n",
    "            f\"floodmaps_gis_{event_number}\": \"floodmaps_gis\",\n",
    "        }\n",
    "    )\n",
    "\n",
    "    #3. Define the filename for the NetCDF file\n",
    "    filename = f\"event_{event_number}.nc\"\n",
    "\n",
    "    #4. Save the DataArray to a NetCDF file\n",
    "    resized_arrays_ds.to_netcdf(folder_path + filename)"
   ]
  }
 ],
 "metadata": {
  "kernelspec": {
   "display_name": "Python 3 (ipykernel)",
   "language": "python",
   "name": "python3"
  },
  "language_info": {
   "codemirror_mode": {
    "name": "ipython",
    "version": 3
   },
   "file_extension": ".py",
   "mimetype": "text/x-python",
   "name": "python",
   "nbconvert_exporter": "python",
   "pygments_lexer": "ipython3",
   "version": "3.9.17"
  }
 },
 "nbformat": 4,
 "nbformat_minor": 5
}
