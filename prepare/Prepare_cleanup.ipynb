{
 "cells": [
  {
   "cell_type": "markdown",
   "id": "fcea2bd0",
   "metadata": {},
   "source": [
    "# Prepare\n",
    "\n"
   ]
  },
  {
   "cell_type": "markdown",
   "id": "12c9e042",
   "metadata": {},
   "source": [
    "This script process geotiff files in the following steps.\n",
    "1. Reproject and resample these files to a consistent coordinate system and cell size\n",
    "2. Create xarray data arrays from the resampled data for organized data handling\n",
    "3. Check inconstistencies for any differences in data array shapes, providing awareness of potential inconstistencies.\n"
   ]
  },
  {
   "cell_type": "code",
   "execution_count": 1,
   "id": "54a082c3",
   "metadata": {},
   "outputs": [],
   "source": [
    "import os\n",
    "import rasterio\n",
    "import xarray as xr\n",
    "from rasterio.warp import calculate_default_transform, reproject, Resampling\n",
    "import numpy as np"
   ]
  },
  {
   "cell_type": "markdown",
   "id": "8c919e97",
   "metadata": {},
   "source": [
    "### Define parameters"
   ]
  },
  {
   "cell_type": "code",
   "execution_count": 2,
   "id": "12be8172",
   "metadata": {},
   "outputs": [],
   "source": [
    "# Define the target coordinate system (WGS84)\n",
    "src_crs = {\"init\": \"EPSG:32647\"}\n",
    "dst_crs = {\"init\": \"EPSG:4326\"}\n",
    "cell_size = 0.001\n",
    "\n",
    "#Specify the folder containing the geotiff files\n",
    "folder_path = r\"C:\\Users\\micha\\Stichting Deltares\\Tiaravanni Hermawan - Indonesia case for students\\semarang\\hydromt_data_1\\to_clean\""
   ]
  },
  {
   "cell_type": "markdown",
   "id": "358a00ac",
   "metadata": {},
   "source": [
    "### Read all the tif from the directory"
   ]
  },
  {
   "cell_type": "code",
   "execution_count": 3,
   "id": "20101432",
   "metadata": {},
   "outputs": [
    {
     "data": {
      "text/plain": [
       "['C:\\\\Users\\\\micha\\\\Stichting Deltares\\\\Tiaravanni Hermawan - Indonesia case for students\\\\semarang\\\\hydromt_data_1\\\\to_clean\\\\cleaned\\\\basin_cleaned.tiff',\n",
       " 'C:\\\\Users\\\\micha\\\\Stichting Deltares\\\\Tiaravanni Hermawan - Indonesia case for students\\\\semarang\\\\hydromt_data_1\\\\to_clean\\\\cleaned\\\\cn_avg_cleaned.tiff',\n",
       " 'C:\\\\Users\\\\micha\\\\Stichting Deltares\\\\Tiaravanni Hermawan - Indonesia case for students\\\\semarang\\\\hydromt_data_1\\\\to_clean\\\\cleaned\\\\cn_dry_cleaned.tiff',\n",
       " 'C:\\\\Users\\\\micha\\\\Stichting Deltares\\\\Tiaravanni Hermawan - Indonesia case for students\\\\semarang\\\\hydromt_data_1\\\\to_clean\\\\cleaned\\\\cn_wet_cleaned.tiff',\n",
       " 'C:\\\\Users\\\\micha\\\\Stichting Deltares\\\\Tiaravanni Hermawan - Indonesia case for students\\\\semarang\\\\hydromt_data_1\\\\to_clean\\\\cleaned\\\\distance_to_river_cleaned.tiff',\n",
       " 'C:\\\\Users\\\\micha\\\\Stichting Deltares\\\\Tiaravanni Hermawan - Indonesia case for students\\\\semarang\\\\hydromt_data_1\\\\to_clean\\\\cleaned\\\\elevation_subsidence_cleaned.tiff',\n",
       " 'C:\\\\Users\\\\micha\\\\Stichting Deltares\\\\Tiaravanni Hermawan - Indonesia case for students\\\\semarang\\\\hydromt_data_1\\\\to_clean\\\\cleaned\\\\floodmaps_1_cleaned.tiff',\n",
       " 'C:\\\\Users\\\\micha\\\\Stichting Deltares\\\\Tiaravanni Hermawan - Indonesia case for students\\\\semarang\\\\hydromt_data_1\\\\to_clean\\\\cleaned\\\\floodmaps_2_cleaned.tiff',\n",
       " 'C:\\\\Users\\\\micha\\\\Stichting Deltares\\\\Tiaravanni Hermawan - Indonesia case for students\\\\semarang\\\\hydromt_data_1\\\\to_clean\\\\cleaned\\\\floodmaps_3_cleaned.tiff',\n",
       " 'C:\\\\Users\\\\micha\\\\Stichting Deltares\\\\Tiaravanni Hermawan - Indonesia case for students\\\\semarang\\\\hydromt_data_1\\\\to_clean\\\\cleaned\\\\floodmaps_4_cleaned.tiff',\n",
       " 'C:\\\\Users\\\\micha\\\\Stichting Deltares\\\\Tiaravanni Hermawan - Indonesia case for students\\\\semarang\\\\hydromt_data_1\\\\to_clean\\\\cleaned\\\\floodmaps_5_cleaned.tiff',\n",
       " 'C:\\\\Users\\\\micha\\\\Stichting Deltares\\\\Tiaravanni Hermawan - Indonesia case for students\\\\semarang\\\\hydromt_data_1\\\\to_clean\\\\cleaned\\\\floodmaps_6_cleaned.tiff',\n",
       " 'C:\\\\Users\\\\micha\\\\Stichting Deltares\\\\Tiaravanni Hermawan - Indonesia case for students\\\\semarang\\\\hydromt_data_1\\\\to_clean\\\\cleaned\\\\floodmaps_gis_1_cleaned.tiff',\n",
       " 'C:\\\\Users\\\\micha\\\\Stichting Deltares\\\\Tiaravanni Hermawan - Indonesia case for students\\\\semarang\\\\hydromt_data_1\\\\to_clean\\\\cleaned\\\\floodmaps_gis_2_cleaned.tiff',\n",
       " 'C:\\\\Users\\\\micha\\\\Stichting Deltares\\\\Tiaravanni Hermawan - Indonesia case for students\\\\semarang\\\\hydromt_data_1\\\\to_clean\\\\cleaned\\\\floodmaps_gis_3_cleaned.tiff',\n",
       " 'C:\\\\Users\\\\micha\\\\Stichting Deltares\\\\Tiaravanni Hermawan - Indonesia case for students\\\\semarang\\\\hydromt_data_1\\\\to_clean\\\\cleaned\\\\floodmaps_gis_4_cleaned.tiff',\n",
       " 'C:\\\\Users\\\\micha\\\\Stichting Deltares\\\\Tiaravanni Hermawan - Indonesia case for students\\\\semarang\\\\hydromt_data_1\\\\to_clean\\\\cleaned\\\\floodmaps_gis_5_cleaned.tiff',\n",
       " 'C:\\\\Users\\\\micha\\\\Stichting Deltares\\\\Tiaravanni Hermawan - Indonesia case for students\\\\semarang\\\\hydromt_data_1\\\\to_clean\\\\cleaned\\\\floodmaps_gis_6_cleaned.tiff',\n",
       " 'C:\\\\Users\\\\micha\\\\Stichting Deltares\\\\Tiaravanni Hermawan - Indonesia case for students\\\\semarang\\\\hydromt_data_1\\\\to_clean\\\\cleaned\\\\flood_prone_area_cleaned.tiff',\n",
       " 'C:\\\\Users\\\\micha\\\\Stichting Deltares\\\\Tiaravanni Hermawan - Indonesia case for students\\\\semarang\\\\hydromt_data_1\\\\to_clean\\\\cleaned\\\\flowdir_cosine_y_cleaned.tiff',\n",
       " 'C:\\\\Users\\\\micha\\\\Stichting Deltares\\\\Tiaravanni Hermawan - Indonesia case for students\\\\semarang\\\\hydromt_data_1\\\\to_clean\\\\cleaned\\\\flowdir_degrees_cleaned.tiff',\n",
       " 'C:\\\\Users\\\\micha\\\\Stichting Deltares\\\\Tiaravanni Hermawan - Indonesia case for students\\\\semarang\\\\hydromt_data_1\\\\to_clean\\\\cleaned\\\\flowdir_sine_y_cleaned.tiff',\n",
       " 'C:\\\\Users\\\\micha\\\\Stichting Deltares\\\\Tiaravanni Hermawan - Indonesia case for students\\\\semarang\\\\hydromt_data_1\\\\to_clean\\\\cleaned\\\\manning_values_cleaned.tiff',\n",
       " 'C:\\\\Users\\\\micha\\\\Stichting Deltares\\\\Tiaravanni Hermawan - Indonesia case for students\\\\semarang\\\\hydromt_data_1\\\\to_clean\\\\cleaned\\\\permanent_water_p50_cleaned.tiff',\n",
       " 'C:\\\\Users\\\\micha\\\\Stichting Deltares\\\\Tiaravanni Hermawan - Indonesia case for students\\\\semarang\\\\hydromt_data_1\\\\to_clean\\\\cleaned\\\\slope_cleaned.tiff',\n",
       " 'C:\\\\Users\\\\micha\\\\Stichting Deltares\\\\Tiaravanni Hermawan - Indonesia case for students\\\\semarang\\\\hydromt_data_1\\\\to_clean\\\\cleaned\\\\uparea_idw_cleaned.tiff',\n",
       " 'C:\\\\Users\\\\micha\\\\Stichting Deltares\\\\Tiaravanni Hermawan - Indonesia case for students\\\\semarang\\\\hydromt_data_1\\\\to_clean\\\\dynamic\\\\floodmaps_1.tif',\n",
       " 'C:\\\\Users\\\\micha\\\\Stichting Deltares\\\\Tiaravanni Hermawan - Indonesia case for students\\\\semarang\\\\hydromt_data_1\\\\to_clean\\\\dynamic\\\\floodmaps_2.tif',\n",
       " 'C:\\\\Users\\\\micha\\\\Stichting Deltares\\\\Tiaravanni Hermawan - Indonesia case for students\\\\semarang\\\\hydromt_data_1\\\\to_clean\\\\dynamic\\\\floodmaps_3.tif',\n",
       " 'C:\\\\Users\\\\micha\\\\Stichting Deltares\\\\Tiaravanni Hermawan - Indonesia case for students\\\\semarang\\\\hydromt_data_1\\\\to_clean\\\\dynamic\\\\floodmaps_4.tif',\n",
       " 'C:\\\\Users\\\\micha\\\\Stichting Deltares\\\\Tiaravanni Hermawan - Indonesia case for students\\\\semarang\\\\hydromt_data_1\\\\to_clean\\\\dynamic\\\\floodmaps_5.tif',\n",
       " 'C:\\\\Users\\\\micha\\\\Stichting Deltares\\\\Tiaravanni Hermawan - Indonesia case for students\\\\semarang\\\\hydromt_data_1\\\\to_clean\\\\dynamic\\\\floodmaps_6.tif',\n",
       " 'C:\\\\Users\\\\micha\\\\Stichting Deltares\\\\Tiaravanni Hermawan - Indonesia case for students\\\\semarang\\\\hydromt_data_1\\\\to_clean\\\\dynamic\\\\floodmaps_gis_1.tif',\n",
       " 'C:\\\\Users\\\\micha\\\\Stichting Deltares\\\\Tiaravanni Hermawan - Indonesia case for students\\\\semarang\\\\hydromt_data_1\\\\to_clean\\\\dynamic\\\\floodmaps_gis_2.tif',\n",
       " 'C:\\\\Users\\\\micha\\\\Stichting Deltares\\\\Tiaravanni Hermawan - Indonesia case for students\\\\semarang\\\\hydromt_data_1\\\\to_clean\\\\dynamic\\\\floodmaps_gis_3.tif',\n",
       " 'C:\\\\Users\\\\micha\\\\Stichting Deltares\\\\Tiaravanni Hermawan - Indonesia case for students\\\\semarang\\\\hydromt_data_1\\\\to_clean\\\\dynamic\\\\floodmaps_gis_4.tif',\n",
       " 'C:\\\\Users\\\\micha\\\\Stichting Deltares\\\\Tiaravanni Hermawan - Indonesia case for students\\\\semarang\\\\hydromt_data_1\\\\to_clean\\\\dynamic\\\\floodmaps_gis_5.tif',\n",
       " 'C:\\\\Users\\\\micha\\\\Stichting Deltares\\\\Tiaravanni Hermawan - Indonesia case for students\\\\semarang\\\\hydromt_data_1\\\\to_clean\\\\dynamic\\\\floodmaps_gis_6.tif',\n",
       " 'C:\\\\Users\\\\micha\\\\Stichting Deltares\\\\Tiaravanni Hermawan - Indonesia case for students\\\\semarang\\\\hydromt_data_1\\\\to_clean\\\\masking\\\\basin.tif',\n",
       " 'C:\\\\Users\\\\micha\\\\Stichting Deltares\\\\Tiaravanni Hermawan - Indonesia case for students\\\\semarang\\\\hydromt_data_1\\\\to_clean\\\\masking\\\\flood_prone_area.tif',\n",
       " 'C:\\\\Users\\\\micha\\\\Stichting Deltares\\\\Tiaravanni Hermawan - Indonesia case for students\\\\semarang\\\\hydromt_data_1\\\\to_clean\\\\masking\\\\permanent_water_p50.tif',\n",
       " 'C:\\\\Users\\\\micha\\\\Stichting Deltares\\\\Tiaravanni Hermawan - Indonesia case for students\\\\semarang\\\\hydromt_data_1\\\\to_clean\\\\masking\\\\permanent_water_p75.tif',\n",
       " 'C:\\\\Users\\\\micha\\\\Stichting Deltares\\\\Tiaravanni Hermawan - Indonesia case for students\\\\semarang\\\\hydromt_data_1\\\\to_clean\\\\static\\\\cn_avg.tif',\n",
       " 'C:\\\\Users\\\\micha\\\\Stichting Deltares\\\\Tiaravanni Hermawan - Indonesia case for students\\\\semarang\\\\hydromt_data_1\\\\to_clean\\\\static\\\\cn_dry.tif',\n",
       " 'C:\\\\Users\\\\micha\\\\Stichting Deltares\\\\Tiaravanni Hermawan - Indonesia case for students\\\\semarang\\\\hydromt_data_1\\\\to_clean\\\\static\\\\cn_wet.tif',\n",
       " 'C:\\\\Users\\\\micha\\\\Stichting Deltares\\\\Tiaravanni Hermawan - Indonesia case for students\\\\semarang\\\\hydromt_data_1\\\\to_clean\\\\static\\\\distance_to_river.tif',\n",
       " 'C:\\\\Users\\\\micha\\\\Stichting Deltares\\\\Tiaravanni Hermawan - Indonesia case for students\\\\semarang\\\\hydromt_data_1\\\\to_clean\\\\static\\\\elevation_subsidence.tif',\n",
       " 'C:\\\\Users\\\\micha\\\\Stichting Deltares\\\\Tiaravanni Hermawan - Indonesia case for students\\\\semarang\\\\hydromt_data_1\\\\to_clean\\\\static\\\\flowdir_cosine_y.tif',\n",
       " 'C:\\\\Users\\\\micha\\\\Stichting Deltares\\\\Tiaravanni Hermawan - Indonesia case for students\\\\semarang\\\\hydromt_data_1\\\\to_clean\\\\static\\\\flowdir_degrees.tif',\n",
       " 'C:\\\\Users\\\\micha\\\\Stichting Deltares\\\\Tiaravanni Hermawan - Indonesia case for students\\\\semarang\\\\hydromt_data_1\\\\to_clean\\\\static\\\\flowdir_sine_y.tif',\n",
       " 'C:\\\\Users\\\\micha\\\\Stichting Deltares\\\\Tiaravanni Hermawan - Indonesia case for students\\\\semarang\\\\hydromt_data_1\\\\to_clean\\\\static\\\\manning_values.tif',\n",
       " 'C:\\\\Users\\\\micha\\\\Stichting Deltares\\\\Tiaravanni Hermawan - Indonesia case for students\\\\semarang\\\\hydromt_data_1\\\\to_clean\\\\static\\\\slope.tif',\n",
       " 'C:\\\\Users\\\\micha\\\\Stichting Deltares\\\\Tiaravanni Hermawan - Indonesia case for students\\\\semarang\\\\hydromt_data_1\\\\to_clean\\\\static\\\\uparea_idw.tif']"
      ]
     },
     "execution_count": 3,
     "metadata": {},
     "output_type": "execute_result"
    }
   ],
   "source": [
    "file_list = []\n",
    "# Walk through the directory and its subdirectories\n",
    "for root, dirs, files in os.walk(folder_path):\n",
    "    for file in files:\n",
    "        if file.endswith('.tif') or file.endswith('.tiff'):\n",
    "            file_list.append(os.path.join(root, file))\n",
    "file_list"
   ]
  },
  {
   "cell_type": "markdown",
   "id": "3a25b0c4",
   "metadata": {},
   "source": [
    "### For each tif in the list do the following steps: \n",
    "    1. Set nan values \n",
    "    2. Resample to given cell size\n",
    "    3. Populate xarray data array from the reprojected data and store it in the dictionary"
   ]
  },
  {
   "cell_type": "code",
   "execution_count": 5,
   "id": "74a1a988",
   "metadata": {},
   "outputs": [],
   "source": [
    "def get_data_from_original_raster(file):\n",
    "    with rasterio.open(file_path) as src:\n",
    "        src_data = src.read(1)\n",
    "        src_data = np.where(\n",
    "            src_data == -9999, np.nan, src_data\n",
    "        )  # Replace -9999 with np.nan\n",
    "        # no flood depth as 0\n",
    "        if (\n",
    "            file_name == \"flooddepth_sfincs.tif\"\n",
    "            or file_name == \"flood_depth_compound.tiff\"\n",
    "        ):\n",
    "            src_data = np.where(np.isnan(src_data), 0, src_data)\n",
    "        # no population as 0\n",
    "        if file_name == \"population.tif\":\n",
    "            src_data = np.where(src_data < 0, 0, src_data)\n",
    "        return src.profile, src_data, src.bounds"
   ]
  },
  {
   "cell_type": "code",
   "execution_count": 7,
   "id": "12d663ca",
   "metadata": {},
   "outputs": [],
   "source": [
    "def resample_to_cell_size(src_profile, dst_crs, bbox):\n",
    "    #1. Calculate the default transform and dimensions of the output raster using bounding values\n",
    "    dst_transform, dst_width, dst_height = calculate_default_transform(\n",
    "        src_profile[\"crs\"],\n",
    "        dst_crs,\n",
    "        src_profile[\"width\"],\n",
    "        src_profile[\"height\"],\n",
    "        left=bbox[0],\n",
    "        bottom=bbox[1],\n",
    "        right=bbox[2],\n",
    "        top=bbox[3],\n",
    "    )\n",
    "    #2. Resample the data to a cell size\n",
    "    target_transform = rasterio.transform.from_origin(\n",
    "        dst_transform[2], dst_transform[5], cell_size, cell_size\n",
    "    )\n",
    "    target_width = int(dst_width * dst_transform[0] / cell_size)\n",
    "    target_height = int(dst_height * abs(dst_transform[4]) / cell_size)\n",
    "\n",
    "    dst_data = np.zeros((target_height, target_width), dtype=np.float32)\n",
    "    reproject(\n",
    "        source=src_data,\n",
    "        destination=dst_data,\n",
    "        src_transform=src_profile[\"transform\"],\n",
    "        src_crs=src_profile[\"crs\"],\n",
    "        dst_transform=target_transform,\n",
    "        dst_crs=dst_crs,\n",
    "        resampling=Resampling.bilinear,\n",
    "    )\n",
    "    \n",
    "    #3. Update the metadata of the output raster\n",
    "    dst_profile = src_profile.copy()\n",
    "    dst_profile.update(\n",
    "        {\n",
    "            \"crs\": dst_crs,\n",
    "            \"transform\": target_transform,  \n",
    "            \"width\": target_width,  \n",
    "            \"height\": target_height, \n",
    "        }\n",
    "    )\n",
    "    return dst_profile, dst_data"
   ]
  },
  {
   "cell_type": "code",
   "execution_count": 8,
   "id": "a7c5ba9f",
   "metadata": {},
   "outputs": [
    {
     "ename": "TypeError",
     "evalue": "cannot unpack non-iterable NoneType object",
     "output_type": "error",
     "traceback": [
      "\u001b[1;31m---------------------------------------------------------------------------\u001b[0m",
      "\u001b[1;31mTypeError\u001b[0m                                 Traceback (most recent call last)",
      "Cell \u001b[1;32mIn[8], line 11\u001b[0m\n\u001b[0;32m      9\u001b[0m src_profile, src_data \u001b[38;5;241m=\u001b[39m set_nan_values_raster(file_path)\n\u001b[0;32m     10\u001b[0m \u001b[38;5;66;03m#print(src_profile, src_data)\u001b[39;00m\n\u001b[1;32m---> 11\u001b[0m dst_profile, dst_data \u001b[38;5;241m=\u001b[39m resample_to_cell_size(src_profile, dst_crs, bbox)\n",
      "\u001b[1;31mTypeError\u001b[0m: cannot unpack non-iterable NoneType object"
     ]
    }
   ],
   "source": [
    "data_array = {}\n",
    "for file_name in file_list:\n",
    "    #1. Construct the input file path\n",
    "    file_path = file_name\n",
    "\n",
    "    #2. Remove file extension from the name\n",
    "    data_name = os.path.splitext(file_name)[0].split(\"\\\\\")[-1]\n",
    "    \n",
    "    src_profile, src_data = set_nan_values_raster(file_path)\n",
    "    #print(src_profile, src_data)\n",
    "    dst_profile, dst_data = resample_to_cell_size(src_profile, dst_crs, bbox)\n",
    "    #data_array[data_name] = xr.DataArray(dst_data, dims=(\"y\", \"x\"), name=data_name)"
   ]
  },
  {
   "cell_type": "markdown",
   "id": "6fc56b0f",
   "metadata": {},
   "source": [
    "### Resize arrays to have the minimum size:\n",
    "    1. Find the minimum size among all arrays\n",
    "    2. Update the profile"
   ]
  },
  {
   "cell_type": "code",
   "execution_count": null,
   "id": "2b0c0e04",
   "metadata": {},
   "outputs": [],
   "source": [
    "min_rows = min([arr.shape[0] for arr in data_array.values()])\n",
    "min_cols = min([arr.shape[1] for arr in data_array.values()])"
   ]
  },
  {
   "cell_type": "code",
   "execution_count": 2,
   "id": "ce8810cc",
   "metadata": {},
   "outputs": [
    {
     "ename": "NameError",
     "evalue": "name 'src_profile' is not defined",
     "output_type": "error",
     "traceback": [
      "\u001b[1;31m---------------------------------------------------------------------------\u001b[0m",
      "\u001b[1;31mNameError\u001b[0m                                 Traceback (most recent call last)",
      "Cell \u001b[1;32mIn[2], line 1\u001b[0m\n\u001b[1;32m----> 1\u001b[0m dst_profile \u001b[38;5;241m=\u001b[39m \u001b[43msrc_profile\u001b[49m\u001b[38;5;241m.\u001b[39mcopy()\n\u001b[0;32m      2\u001b[0m dst_profile\u001b[38;5;241m.\u001b[39mupdate(\n\u001b[0;32m      3\u001b[0m     {\n\u001b[0;32m      4\u001b[0m         \u001b[38;5;124m\"\u001b[39m\u001b[38;5;124mcrs\u001b[39m\u001b[38;5;124m\"\u001b[39m: dst_crs,\n\u001b[1;32m   (...)\u001b[0m\n\u001b[0;32m      8\u001b[0m     }\n\u001b[0;32m      9\u001b[0m )\n",
      "\u001b[1;31mNameError\u001b[0m: name 'src_profile' is not defined"
     ]
    }
   ],
   "source": [
    "dst_profile = src_profile.copy()\n",
    "dst_profile.update(\n",
    "    {\n",
    "        \"crs\": dst_crs,\n",
    "        \"transform\": target_transform,  # dst_transform,\n",
    "        \"width\": min_cols,  # dst_width,\n",
    "        \"height\": min_rows,  # dst_height\n",
    "    }\n",
    ")"
   ]
  },
  {
   "cell_type": "code",
   "execution_count": null,
   "id": "b4af384a",
   "metadata": {},
   "outputs": [],
   "source": [
    "resized_arrays_tiff = {}\n",
    "\n",
    "for key, arr in data_array.items():\n",
    "    resized_arr = arr[:min_rows, :min_cols]\n",
    "    resized_arrays_tiff[key] = xr.DataArray(resized_arr, dims=(\"y\", \"x\"), name=key)\n",
    "\n",
    "    # write resized rasters\n",
    "    with rasterio.open(\n",
    "        folder_path + \"cleaned/\" + key + \"_cleaned.tiff\", \"w\", **dst_profile\n",
    "    ) as dst:\n",
    "        dst.write(resized_arrays_tiff[key], indexes=1)\n"
   ]
  },
  {
   "cell_type": "markdown",
   "id": "261dd08b",
   "metadata": {},
   "source": [
    "### Create netcdf per event\n",
    "    1. Set event numbers\n",
    "    2. Get coordinates from one of the tiff files\n",
    "    3. Define the variables to exclude\n",
    "    4. Loop through each event number and create a NetCDF file for it"
   ]
  },
  {
   "cell_type": "code",
   "execution_count": null,
   "id": "deed6077",
   "metadata": {},
   "outputs": [],
   "source": [
    "event_numbers = [i for i in range(1, 7)]"
   ]
  },
  {
   "cell_type": "code",
   "execution_count": null,
   "id": "ecaaaba7",
   "metadata": {},
   "outputs": [],
   "source": [
    "coords_tiff = xr.open_dataset(\n",
    "    folder_path + \"cleaned/floodmaps_1_cleaned.tiff\", engine=\"rasterio\"\n",
    ")"
   ]
  },
  {
   "cell_type": "code",
   "execution_count": null,
   "id": "d90c775f",
   "metadata": {},
   "outputs": [],
   "source": [
    "variable_to_exclude = \"floodmaps\" \n",
    "\n",
    "\n",
    "target_vars = [f\"{variable_to_exclude}{event_number}\" for event_number in event_numbers]\n",
    "dynamic_vars = target_vars + [\n",
    "    f\"{variable_to_exclude}_gis_{event_number}\" for event_number in event_numbers\n",
    "]\n",
    "static_vars = [\n",
    "    var_name for var_name in resized_arrays_tiff.keys() if var_name not in dynamic_vars\n",
    "]"
   ]
  },
  {
   "cell_type": "code",
   "execution_count": null,
   "id": "f208a260",
   "metadata": {},
   "outputs": [],
   "source": [
    "for event_number in event_numbers:\n",
    "    resized_arrays_nc = {}\n",
    "    #1. Select the relevant DataArrays for the current event\n",
    "    selected_vars = [\n",
    "        [f\"{variable_to_exclude}{event_number}\", f\"{variable_to_exclude}_gis_{event_number}\"] + static_vars\n",
    "    ][0]\n",
    "\n",
    "    #2. Create a new DataArray containing only the selected variables\n",
    "    dims = (\"events\", \"y\", \"x\")\n",
    "    coords = [[event_number], coords_tiff.y.values, coords_tiff.x.values]\n",
    "\n",
    "    for key, arr in data_array.items():\n",
    "        resized_arr = arr[:min_rows, :min_cols].expand_dims({\"events\": 1})\n",
    "        resized_arrays_nc[key] = xr.DataArray(\n",
    "            resized_arr, dims=dims, coords=coords, name=key\n",
    "        )\n",
    "\n",
    "    resized_arrays_ds = xr.Dataset(resized_arrays_nc)\n",
    "    resized_arrays_ds = resized_arrays_ds.rename(\n",
    "        {\n",
    "            f\"floodmaps_{event_number}\": \"floodmaps\",\n",
    "            f\"floodmaps_gis_{event_number}\": \"floodmaps_gis\",\n",
    "        }\n",
    "    )\n",
    "\n",
    "    #3. Define the filename for the NetCDF file\n",
    "    filename = f\"event_{event_number}.nc\"\n",
    "\n",
    "    #4. Save the DataArray to a NetCDF file\n",
    "    resized_arrays_ds.to_netcdf(folder_path + filename)"
   ]
  }
 ],
 "metadata": {
  "kernelspec": {
   "display_name": "Python 3 (ipykernel)",
   "language": "python",
   "name": "python3"
  },
  "language_info": {
   "codemirror_mode": {
    "name": "ipython",
    "version": 3
   },
   "file_extension": ".py",
   "mimetype": "text/x-python",
   "name": "python",
   "nbconvert_exporter": "python",
   "pygments_lexer": "ipython3",
   "version": "3.9.17"
  }
 },
 "nbformat": 4,
 "nbformat_minor": 5
}
